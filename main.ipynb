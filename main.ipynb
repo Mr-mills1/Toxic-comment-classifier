{
 "cells": [
  {
   "cell_type": "code",
   "execution_count": 2,
   "id": "b8ce6768",
   "metadata": {
    "scrolled": true
   },
   "outputs": [
    {
     "name": "stdout",
     "output_type": "stream",
     "text": [
      " * Serving Flask app \"__main__\" (lazy loading)\n",
      " * Environment: production\n",
      "\u001b[31m   WARNING: This is a development server. Do not use it in a production deployment.\u001b[0m\n",
      "\u001b[2m   Use a production WSGI server instead.\u001b[0m\n",
      " * Debug mode: off\n"
     ]
    },
    {
     "name": "stderr",
     "output_type": "stream",
     "text": [
      " * Running on http://127.0.0.1:5000/ (Press CTRL+C to quit)\n",
      "127.0.0.1 - - [13/Apr/2023 11:01:06] \"GET / HTTP/1.1\" 200 -\n",
      "127.0.0.1 - - [13/Apr/2023 11:01:24] \"POST / HTTP/1.1\" 200 -\n"
     ]
    },
    {
     "name": "stdout",
     "output_type": "stream",
     "text": [
      "you piece of shit\n",
      "[[0 1 0 1 0]]\n",
      "['obscene' 'insult']\n"
     ]
    },
    {
     "name": "stderr",
     "output_type": "stream",
     "text": [
      "127.0.0.1 - - [13/Apr/2023 11:03:14] \"POST / HTTP/1.1\" 200 -\n"
     ]
    },
    {
     "name": "stdout",
     "output_type": "stream",
     "text": [
      "i love you babe\n",
      "[[0 0 0 0 0]]\n",
      "[]\n"
     ]
    },
    {
     "name": "stderr",
     "output_type": "stream",
     "text": [
      "127.0.0.1 - - [13/Apr/2023 11:03:35] \"POST / HTTP/1.1\" 200 -\n"
     ]
    },
    {
     "name": "stdout",
     "output_type": "stream",
     "text": [
      "kill hime tonight\n",
      "[[0 0 1 0 0]]\n",
      "['threat']\n"
     ]
    },
    {
     "name": "stderr",
     "output_type": "stream",
     "text": [
      "127.0.0.1 - - [13/Apr/2023 11:03:54] \"POST / HTTP/1.1\" 200 -\n"
     ]
    },
    {
     "name": "stdout",
     "output_type": "stream",
     "text": [
      "you are mad\n",
      "[[0 0 0 0 0]]\n",
      "[]\n"
     ]
    },
    {
     "name": "stderr",
     "output_type": "stream",
     "text": [
      "127.0.0.1 - - [13/Apr/2023 11:04:09] \"POST / HTTP/1.1\" 200 -\n"
     ]
    },
    {
     "name": "stdout",
     "output_type": "stream",
     "text": [
      "fuck you boy\n",
      "[[0 1 0 1 0]]\n",
      "['obscene' 'insult']\n"
     ]
    },
    {
     "name": "stderr",
     "output_type": "stream",
     "text": [
      "127.0.0.1 - - [13/Apr/2023 11:04:24] \"POST / HTTP/1.1\" 200 -\n"
     ]
    },
    {
     "name": "stdout",
     "output_type": "stream",
     "text": [
      "i hate you daddy\n",
      "[[0 0 0 0 0]]\n",
      "[]\n"
     ]
    },
    {
     "name": "stderr",
     "output_type": "stream",
     "text": [
      "127.0.0.1 - - [13/Apr/2023 11:04:36] \"POST / HTTP/1.1\" 200 -\n"
     ]
    },
    {
     "name": "stdout",
     "output_type": "stream",
     "text": [
      "i hate you daddy\n",
      "[[0 0 0 0 0]]\n",
      "[]\n"
     ]
    },
    {
     "name": "stderr",
     "output_type": "stream",
     "text": [
      "127.0.0.1 - - [13/Apr/2023 11:06:17] \"POST / HTTP/1.1\" 200 -\n"
     ]
    },
    {
     "name": "stdout",
     "output_type": "stream",
     "text": [
      "you are a wicked father\n",
      "[[0 0 0 0 0]]\n",
      "[]\n"
     ]
    }
   ],
   "source": [
    "# import the libraries\n",
    "from flask import Flask, render_template, request, redirect, url_for\n",
    "from joblib import load\n",
    "import pandas as pd\n",
    "pd.set_option('display.max_colwidth', 1000) # set column width\n",
    "\n",
    "# load the saved or dumped pipeline\n",
    "pipeline = load(\"toxic_comment_classification.joblib\")\n",
    "\n",
    "app = Flask(__name__)\n",
    "\n",
    "@app.route('/',methods=['GET','POST'])\n",
    "def index():\n",
    "    pred=None\n",
    "    c=[]\n",
    "    col=['severe_toxic', 'obscene', 'threat','insult', 'identity_hate']\n",
    "    if request.method == 'POST':\n",
    "        user_input = request.form['comment']\n",
    "        print(user_input)\n",
    "        cat=pipeline.predict([user_input])\n",
    "        print(cat)\n",
    "        cat = pd.DataFrame(cat,columns=col)\n",
    "        for i in range(len(cat)):\n",
    "            if cat.columns[(cat == 1).iloc[i]].notna().all():\n",
    "                c=(cat.columns[(cat == 1).iloc[i]].values)\n",
    "                print(c)\n",
    "    return render_template('index.html',k=c)\n",
    "\n",
    "if __name__ == '__main__':\n",
    "    app.run()"
   ]
  },
  {
   "cell_type": "code",
   "execution_count": null,
   "id": "d0188842",
   "metadata": {},
   "outputs": [],
   "source": []
  }
 ],
 "metadata": {
  "kernelspec": {
   "display_name": "Python 3 (ipykernel)",
   "language": "python",
   "name": "python3"
  },
  "language_info": {
   "codemirror_mode": {
    "name": "ipython",
    "version": 3
   },
   "file_extension": ".py",
   "mimetype": "text/x-python",
   "name": "python",
   "nbconvert_exporter": "python",
   "pygments_lexer": "ipython3",
   "version": "3.9.12"
  }
 },
 "nbformat": 4,
 "nbformat_minor": 5
}
